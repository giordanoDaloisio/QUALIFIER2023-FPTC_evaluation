{
 "cells": [
  {
   "cell_type": "code",
   "execution_count": null,
   "metadata": {},
   "outputs": [],
   "source": [
    "import pandas as pd\n",
    "import matplotlib.pyplot as plt\n",
    "import seaborn as sns \n",
    "import utils\n",
    "\n",
    "sns.set_style('whitegrid')"
   ]
  },
  {
   "cell_type": "code",
   "execution_count": null,
   "metadata": {},
   "outputs": [],
   "source": [
    "def get_mean_time(data):\n",
    "    return data['Training Time'].mean()\n",
    "\n",
    "def plot_error(data, fptc, error_type='MAPE'):\n",
    "    mean_time = get_mean_time(data)\n",
    "    errors = []\n",
    "    for i in range(19):\n",
    "        if error_type == 'RMSE':\n",
    "            errors.append(utils.compute_rmse([mean_time], [fptc.iloc[i]['FPTC']]))\n",
    "        else:\n",
    "            errors.append(utils.get_mape([mean_time], [fptc.iloc[i]['FPTC']]))\n",
    "    fig, ax = plt.subplots(figsize=(10, 6))\n",
    "    sns.lineplot(x=fptc['Cols'], y=errors)\n",
    "    ax.set_xlabel('Number of Columns')\n",
    "    if error_type == 'RMSE':\n",
    "        ax.set_ylabel('RMSE')\n",
    "    else:\n",
    "        ax.set_ylabel('MAPE')\n",
    "    plt.show()\n",
    "\n",
    "def get_fptc(rows, cols, classes, iters):\n",
    "    fptcs = pd.DataFrame()\n",
    "    slopes = pd.read_csv('./notebook_data/median_slopes_logreg.csv')\n",
    "    for i, r in slopes.iterrows():\n",
    "        fptcs = pd.concat([fptcs, pd.DataFrame(\n",
    "            {'FPTC': [utils.train_fptc_logreg(rows, cols, classes, r['Slope'], iters)], \n",
    "             'Cols': [r['Columns']]}\n",
    "             )], ignore_index=True)\n",
    "    return fptcs"
   ]
  },
  {
   "cell_type": "code",
   "execution_count": null,
   "metadata": {},
   "outputs": [],
   "source": [
    "base_path = './training_time_logreg/'"
   ]
  },
  {
   "attachments": {},
   "cell_type": "markdown",
   "metadata": {},
   "source": [
    "# Adult Dataset"
   ]
  },
  {
   "cell_type": "code",
   "execution_count": null,
   "metadata": {},
   "outputs": [],
   "source": [
    "path = base_path + 'training_time_adult.csv'\n",
    "\n",
    "adult = pd.read_csv(path)\n",
    "iters = round(adult['Iterations'].mean())\n",
    "fptcs = get_fptc(30940, 103, 2, iters)\n",
    "plot_error(adult, fptcs)"
   ]
  },
  {
   "cell_type": "code",
   "execution_count": null,
   "metadata": {},
   "outputs": [],
   "source": [
    "plot_error(adult, fptcs, 'RMSE')"
   ]
  },
  {
   "attachments": {},
   "cell_type": "markdown",
   "metadata": {},
   "source": [
    "# Antivirus Dataset"
   ]
  },
  {
   "cell_type": "code",
   "execution_count": null,
   "metadata": {},
   "outputs": [],
   "source": [
    "path = base_path + 'training_time_antivirus.csv'\n",
    "\n",
    "data = pd.read_csv(path)\n",
    "iters = round(data['Iterations'].mean())\n",
    "fptcs = get_fptc(373, 531, 2, iters)\n",
    "plot_error(data, fptcs)"
   ]
  },
  {
   "cell_type": "code",
   "execution_count": null,
   "metadata": {},
   "outputs": [],
   "source": [
    "plot_error(data, fptcs, 'RMSE')"
   ]
  },
  {
   "attachments": {},
   "cell_type": "markdown",
   "metadata": {},
   "source": [
    "# APS Dataset"
   ]
  },
  {
   "cell_type": "code",
   "execution_count": null,
   "metadata": {},
   "outputs": [],
   "source": [
    "path = base_path + 'training_time_aps_proc.csv'\n",
    "\n",
    "data = pd.read_csv(path)\n",
    "iters = round(data['Iterations'].mean())\n",
    "fptcs = get_fptc(60000, 162, 2, iters)\n",
    "plot_error(data, fptcs)"
   ]
  },
  {
   "cell_type": "code",
   "execution_count": null,
   "metadata": {},
   "outputs": [],
   "source": [
    "plot_error(data, fptcs, 'RMSE')"
   ]
  },
  {
   "attachments": {},
   "cell_type": "markdown",
   "metadata": {},
   "source": [
    "# Arcene Dataset"
   ]
  },
  {
   "cell_type": "code",
   "execution_count": null,
   "metadata": {},
   "outputs": [],
   "source": [
    "path = base_path + 'training_time_arcene_proc.csv'\n",
    "\n",
    "data = pd.read_csv(path)\n",
    "iters = round(data['Iterations'].mean())\n",
    "fptcs = get_fptc(100, 10001, 2, iters)\n",
    "plot_error(data, fptcs)"
   ]
  },
  {
   "cell_type": "code",
   "execution_count": null,
   "metadata": {},
   "outputs": [],
   "source": [
    "plot_error(data, fptcs, 'RMSE')"
   ]
  },
  {
   "attachments": {},
   "cell_type": "markdown",
   "metadata": {},
   "source": [
    "# Compas Dataset"
   ]
  },
  {
   "cell_type": "code",
   "execution_count": null,
   "metadata": {},
   "outputs": [],
   "source": [
    "path = base_path + 'training_time_compas.csv'\n",
    "\n",
    "data = pd.read_csv(path)\n",
    "iters = round(data['Iterations'].mean())\n",
    "fptcs = get_fptc(6167, 399, 2, iters)\n",
    "plot_error(data, fptcs)"
   ]
  },
  {
   "cell_type": "code",
   "execution_count": null,
   "metadata": {},
   "outputs": [],
   "source": [
    "plot_error(data, fptcs, 'RMSE')"
   ]
  },
  {
   "attachments": {},
   "cell_type": "markdown",
   "metadata": {},
   "source": [
    "# Dexter Dataset"
   ]
  },
  {
   "cell_type": "code",
   "execution_count": null,
   "metadata": {},
   "outputs": [],
   "source": [
    "path = base_path + 'training_time_dexter_proc.csv'\n",
    "\n",
    "data = pd.read_csv(path)\n",
    "iters = round(data['Iterations'].mean())\n",
    "fptcs = get_fptc(300, 20000, 2, iters)\n",
    "plot_error(data, fptcs)"
   ]
  },
  {
   "cell_type": "code",
   "execution_count": null,
   "metadata": {},
   "outputs": [],
   "source": [
    "plot_error(data, fptcs, 'RMSE')"
   ]
  },
  {
   "attachments": {},
   "cell_type": "markdown",
   "metadata": {},
   "source": [
    "# German Dataset"
   ]
  },
  {
   "cell_type": "code",
   "execution_count": null,
   "metadata": {},
   "outputs": [],
   "source": [
    "path = base_path + 'training_time_german.csv'\n",
    "\n",
    "data = pd.read_csv(path)\n",
    "iters = round(data['Iterations'].mean())\n",
    "fptcs = get_fptc(1000, 59, 2, iters)\n",
    "plot_error(data, fptcs)"
   ]
  },
  {
   "cell_type": "code",
   "execution_count": null,
   "metadata": {},
   "outputs": [],
   "source": [
    "plot_error(data, fptcs, 'RMSE')"
   ]
  }
 ],
 "metadata": {
  "kernelspec": {
   "display_name": "bias",
   "language": "python",
   "name": "python3"
  },
  "language_info": {
   "codemirror_mode": {
    "name": "ipython",
    "version": 3
   },
   "file_extension": ".py",
   "mimetype": "text/x-python",
   "name": "python",
   "nbconvert_exporter": "python",
   "pygments_lexer": "ipython3",
   "version": "3.9.7"
  },
  "orig_nbformat": 4
 },
 "nbformat": 4,
 "nbformat_minor": 2
}
