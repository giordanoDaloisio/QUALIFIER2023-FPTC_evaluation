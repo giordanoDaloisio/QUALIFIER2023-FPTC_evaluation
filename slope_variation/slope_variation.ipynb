{
 "cells": [
  {
   "cell_type": "code",
   "execution_count": null,
   "metadata": {},
   "outputs": [],
   "source": [
    "import pandas as pd\n",
    "import matplotlib.pyplot as plt\n",
    "import seaborn as sns\n",
    "import os\n",
    "\n",
    "sns.set_style('whitegrid')"
   ]
  },
  {
   "attachments": {},
   "cell_type": "markdown",
   "metadata": {},
   "source": [
    "## Slopes variation LogReg"
   ]
  },
  {
   "cell_type": "code",
   "execution_count": null,
   "metadata": {},
   "outputs": [],
   "source": [
    "folder = './slopes_logreg/'\n",
    "data_full = pd.DataFrame(columns=['Columns', 'Slope', 'Round'])\n",
    "for i, f in enumerate(os.listdir(folder)):\n",
    "    if i < 10:\n",
    "        data = pd.read_csv(folder+f, index_col=0)\n",
    "        data['Round'] = i\n",
    "        data_full = pd.concat([data_full, data])"
   ]
  },
  {
   "cell_type": "code",
   "execution_count": null,
   "metadata": {},
   "outputs": [],
   "source": [
    "fig, ax = plt.subplots(figsize=(8, 5))\n",
    "sns.boxplot(data=data_full, x='Columns', y='Slope', ax=ax)\n",
    "ax.set_xlabel('Number of features', fontsize=12)\n",
    "ax.set_ylabel('Slope', fontsize=12)\n",
    "ax.tick_params(axis='both', labelsize=10)\n",
    "plt.show()\n"
   ]
  },
  {
   "attachments": {},
   "cell_type": "markdown",
   "metadata": {},
   "source": [
    "## Slopes Random Forest"
   ]
  },
  {
   "cell_type": "code",
   "execution_count": null,
   "metadata": {},
   "outputs": [],
   "source": [
    "folder = './slopes_rf/'\n",
    "data_full = pd.DataFrame(columns=['Columns', 'Slope', 'Round'])\n",
    "for i, f in enumerate(os.listdir(folder)):\n",
    "    data = pd.read_csv(folder+f, index_col=0)\n",
    "    data['Round'] = i\n",
    "    data_full = pd.concat([data_full, data])"
   ]
  },
  {
   "cell_type": "code",
   "execution_count": null,
   "metadata": {},
   "outputs": [],
   "source": [
    "fig, ax = plt.subplots(figsize=(8, 5))\n",
    "sns.boxplot(data=data_full, x='Columns', y='Slope', ax=ax)\n",
    "ax.set_xlabel('Number of features', fontsize=12)\n",
    "ax.set_ylabel('Slope', fontsize=12)\n",
    "ax.tick_params(axis='both', labelsize=10)\n",
    "plt.show()"
   ]
  }
 ],
 "metadata": {
  "kernelspec": {
   "display_name": "bias",
   "language": "python",
   "name": "python3"
  },
  "language_info": {
   "codemirror_mode": {
    "name": "ipython",
    "version": 3
   },
   "file_extension": ".py",
   "mimetype": "text/x-python",
   "name": "python",
   "nbconvert_exporter": "python",
   "pygments_lexer": "ipython3",
   "version": "3.9.7"
  },
  "orig_nbformat": 4
 },
 "nbformat": 4,
 "nbformat_minor": 2
}
